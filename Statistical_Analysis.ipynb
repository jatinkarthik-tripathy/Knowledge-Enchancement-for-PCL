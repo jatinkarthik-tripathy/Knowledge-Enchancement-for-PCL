{
  "nbformat": 4,
  "nbformat_minor": 0,
  "metadata": {
    "colab": {
      "name": "Statistical_Analysis.ipynb",
      "provenance": [],
      "collapsed_sections": []
    },
    "kernelspec": {
      "name": "python3",
      "display_name": "Python 3"
    },
    "language_info": {
      "name": "python"
    }
  },
  "cells": [
    {
      "cell_type": "code",
      "source": [
        "import os\n",
        "import json\n",
        "\n",
        "from google.colab import drive\n",
        "drive.mount('/content/drive')\n",
        "\n",
        "!pip3 install  researchpy --quiet\n",
        "\n",
        "import pandas as pd\n",
        "import researchpy as rp\n",
        "import scipy.stats as stats"
      ],
      "metadata": {
        "id": "0anF-qqLHwei",
        "colab": {
          "base_uri": "https://localhost:8080/"
        },
        "outputId": "10823fb0-3923-4e31-fa71-de63cffda673"
      },
      "execution_count": 1,
      "outputs": [
        {
          "output_type": "stream",
          "name": "stdout",
          "text": [
            "Drive already mounted at /content/drive; to attempt to forcibly remount, call drive.mount(\"/content/drive\", force_remount=True).\n"
          ]
        },
        {
          "output_type": "stream",
          "name": "stderr",
          "text": [
            "/usr/local/lib/python3.7/dist-packages/statsmodels/tools/_testing.py:19: FutureWarning: pandas.util.testing is deprecated. Use the functions in the public API at pandas.testing instead.\n",
            "  import pandas.util.testing as tm\n"
          ]
        }
      ]
    },
    {
      "cell_type": "markdown",
      "source": [
        "# From https://www.pythonfordatascience.org/independent-samples-t-test-python/"
      ],
      "metadata": {
        "id": "odiPzJgXQ9Ch"
      }
    },
    {
      "cell_type": "code",
      "source": [
        "SAVE_PATH = \"/content/drive/MyDrive/\"\n",
        "\n",
        "with open(os.path.join(SAVE_PATH, \"CoLAKE_scores.json\"), \"r\") as f:\n",
        "    data_colake = json.load(f)\n",
        "\n",
        "with open(os.path.join(SAVE_PATH, \"RoBERTa_scores.json\"), \"r\") as f:\n",
        "    data_roberta = json.load(f)"
      ],
      "metadata": {
        "id": "ko0fOJDeP719"
      },
      "execution_count": 2,
      "outputs": []
    },
    {
      "cell_type": "code",
      "source": [
        "# df for colake\n",
        "\n",
        "df_colake = df = pd.DataFrame({\"Authority_voice\":data_colake['values']['Authority_voice'],\n",
        "                         \"Compassion\":data_colake['values']['Compassion'],\n",
        "                         \"Metaphors\":data_colake['values']['Metaphors'],\n",
        "                         \"Presupposition\":data_colake['values']['Presupposition'],\n",
        "                         \"Shallow_solution\":data_colake['values']['Shallow_solution'],\n",
        "                         \"The_poorer_the_merrier\":data_colake['values']['The_poorer_the_merrier'],\n",
        "                         \"Unbalanced_power_relations\":data_colake['values']['Unbalanced_power_relations']})\n",
        "\n",
        "# df for roberta\n",
        "\n",
        "df_roberta = df = pd.DataFrame({\"Authority_voice\":data_roberta['values']['Authority_voice'],\n",
        "                         \"Compassion\":data_roberta['values']['Compassion'],\n",
        "                         \"Metaphors\":data_roberta['values']['Metaphors'],\n",
        "                         \"Presupposition\":data_roberta['values']['Presupposition'],\n",
        "                         \"Shallow_solution\":data_roberta['values']['Shallow_solution'],\n",
        "                         \"The_poorer_the_merrier\":data_roberta['values']['The_poorer_the_merrier'],\n",
        "                         \"Unbalanced_power_relations\":data_roberta['values']['Unbalanced_power_relations']})\n",
        "\n"
      ],
      "metadata": {
        "id": "GWhS2yS5a0pQ"
      },
      "execution_count": 3,
      "outputs": []
    },
    {
      "cell_type": "markdown",
      "source": [
        "# T-Test"
      ],
      "metadata": {
        "id": "73sgkS3HjELw"
      }
    },
    {
      "cell_type": "code",
      "source": [
        "labels = ['Authority_voice', 'Compassion', 'Metaphors', 'Presupposition', 'Shallow_solution' ,'Unbalanced_power_relations','The_poorer_the_merrier']\n",
        "label_ttest = {}\n",
        "\n",
        "\n",
        "for l in labels:\n",
        "  label_ttest[l] = rp.ttest(group1= df_roberta[l], group1_name= \"RoBERTa\",\n",
        "         group2= df_colake[l], group2_name= \"CoLAKE\")"
      ],
      "metadata": {
        "id": "oERjig8gTsBE",
        "colab": {
          "base_uri": "https://localhost:8080/"
        },
        "outputId": "84b99c25-aeb0-4c73-e43c-6c6a469672e4"
      },
      "execution_count": 4,
      "outputs": [
        {
          "output_type": "stream",
          "name": "stderr",
          "text": [
            "/usr/local/lib/python3.7/dist-packages/scipy/stats/_distn_infrastructure.py:2003: RuntimeWarning: invalid value encountered in multiply\n",
            "  lower_bound = _a * scale + loc\n",
            "/usr/local/lib/python3.7/dist-packages/scipy/stats/_distn_infrastructure.py:2004: RuntimeWarning: invalid value encountered in multiply\n",
            "  upper_bound = _b * scale + loc\n"
          ]
        }
      ]
    },
    {
      "cell_type": "code",
      "source": [
        "label_ttest"
      ],
      "metadata": {
        "id": "ujKKD8iyWpts",
        "colab": {
          "base_uri": "https://localhost:8080/"
        },
        "outputId": "1b430338-b2fb-4dea-d00e-4cb78e321ac0"
      },
      "execution_count": 5,
      "outputs": [
        {
          "output_type": "execute_result",
          "data": {
            "text/plain": [
              "{'Authority_voice': (   Variable     N      Mean        SD        SE  95% Conf.  Interval\n",
              "  0   RoBERTa  40.0  0.505844  0.047825  0.007562   0.490548  0.521139\n",
              "  1    CoLAKE  40.0  0.018954  0.059489  0.009406  -0.000071  0.037980\n",
              "  2  combined  80.0  0.262399  0.250782  0.028038   0.206590  0.318208,\n",
              "                   Independent t-test  results\n",
              "  0  Difference (RoBERTa - CoLAKE) =    0.4869\n",
              "  1             Degrees of freedom =   78.0000\n",
              "  2                              t =   40.3429\n",
              "  3          Two side test p value =    0.0000\n",
              "  4         Difference < 0 p value =    1.0000\n",
              "  5         Difference > 0 p value =    0.0000\n",
              "  6                      Cohen's d =    9.0209\n",
              "  7                      Hedge's g =    8.9339\n",
              "  8                  Glass's delta =   10.1806\n",
              "  9                    Pearson's r =    0.9769),\n",
              " 'Compassion': (   Variable     N      Mean        SD        SE  95% Conf.  Interval\n",
              "  0   RoBERTa  40.0  0.771001  0.023783  0.003760   0.763395  0.778607\n",
              "  1    CoLAKE  40.0  0.453438  0.279327  0.044165   0.364105  0.542771\n",
              "  2  combined  80.0  0.612219  0.253629  0.028357   0.555777  0.668662,\n",
              "                   Independent t-test  results\n",
              "  0  Difference (RoBERTa - CoLAKE) =    0.3176\n",
              "  1             Degrees of freedom =   78.0000\n",
              "  2                              t =    7.1644\n",
              "  3          Two side test p value =    0.0000\n",
              "  4         Difference < 0 p value =    1.0000\n",
              "  5         Difference > 0 p value =    0.0000\n",
              "  6                      Cohen's d =    1.6020\n",
              "  7                      Hedge's g =    1.5866\n",
              "  8                  Glass's delta =   13.3525\n",
              "  9                    Pearson's r =    0.6300),\n",
              " 'Metaphors': (   Variable     N      Mean        SD        SE  95% Conf.  Interval\n",
              "  0   RoBERTa  40.0  0.330049  0.107576  0.017009   0.295645  0.364453\n",
              "  1    CoLAKE  40.0  0.009364  0.031349  0.004957  -0.000662  0.019390\n",
              "  2  combined  80.0  0.169706  0.179537  0.020073   0.129752  0.209660,\n",
              "                   Independent t-test  results\n",
              "  0  Difference (RoBERTa - CoLAKE) =    0.3207\n",
              "  1             Degrees of freedom =   78.0000\n",
              "  2                              t =   18.1007\n",
              "  3          Two side test p value =    0.0000\n",
              "  4         Difference < 0 p value =    1.0000\n",
              "  5         Difference > 0 p value =    0.0000\n",
              "  6                      Cohen's d =    4.0474\n",
              "  7                      Hedge's g =    4.0084\n",
              "  8                  Glass's delta =    2.9810\n",
              "  9                    Pearson's r =    0.8987),\n",
              " 'Presupposition': (   Variable     N      Mean        SD        SE  95% Conf.  Interval\n",
              "  0   RoBERTa  40.0  0.551297  0.060531  0.009571   0.531938  0.570655\n",
              "  1    CoLAKE  40.0  0.132007  0.180490  0.028538   0.074284  0.189731\n",
              "  2  combined  80.0  0.341652  0.249796  0.027928   0.286062  0.397241,\n",
              "                   Independent t-test  results\n",
              "  0  Difference (RoBERTa - CoLAKE) =    0.4193\n",
              "  1             Degrees of freedom =   78.0000\n",
              "  2                              t =   13.9298\n",
              "  3          Two side test p value =    0.0000\n",
              "  4         Difference < 0 p value =    1.0000\n",
              "  5         Difference > 0 p value =    0.0000\n",
              "  6                      Cohen's d =    3.1148\n",
              "  7                      Hedge's g =    3.0848\n",
              "  8                  Glass's delta =    6.9269\n",
              "  9                    Pearson's r =    0.8446),\n",
              " 'Shallow_solution': (   Variable     N      Mean        SD        SE  95% Conf.  Interval\n",
              "  0   RoBERTa  40.0  0.585617  0.056848  0.008988   0.567436  0.603797\n",
              "  1    CoLAKE  40.0  0.053948  0.116795  0.018467   0.016595  0.091301\n",
              "  2  combined  80.0  0.319782  0.282652  0.031601   0.256881  0.382683,\n",
              "                   Independent t-test  results\n",
              "  0  Difference (RoBERTa - CoLAKE) =    0.5317\n",
              "  1             Degrees of freedom =   78.0000\n",
              "  2                              t =   25.8867\n",
              "  3          Two side test p value =    0.0000\n",
              "  4         Difference < 0 p value =    1.0000\n",
              "  5         Difference > 0 p value =    0.0000\n",
              "  6                      Cohen's d =    5.7884\n",
              "  7                      Hedge's g =    5.7326\n",
              "  8                  Glass's delta =    9.3525\n",
              "  9                    Pearson's r =    0.9464),\n",
              " 'The_poorer_the_merrier': (   Variable     N      Mean        SD        SE  95% Conf.  Interval\n",
              "  0   RoBERTa  40.0  0.034616  0.086835  0.013730   0.006845  0.062387\n",
              "  1    CoLAKE  40.0  0.000000  0.000000  0.000000        NaN       NaN\n",
              "  2  combined  80.0  0.017308  0.063449  0.007094   0.003188  0.031428,\n",
              "                   Independent t-test  results\n",
              "  0  Difference (RoBERTa - CoLAKE) =    0.0346\n",
              "  1             Degrees of freedom =   78.0000\n",
              "  2                              t =    2.5212\n",
              "  3          Two side test p value =    0.0137\n",
              "  4         Difference < 0 p value =    0.9931\n",
              "  5         Difference > 0 p value =    0.0069\n",
              "  6                      Cohen's d =    0.5638\n",
              "  7                      Hedge's g =    0.5583\n",
              "  8                  Glass's delta =    0.3986\n",
              "  9                    Pearson's r =    0.2745),\n",
              " 'Unbalanced_power_relations': (   Variable     N      Mean        SD        SE  95% Conf.  Interval\n",
              "  0   RoBERTa  40.0  0.888051  0.015173  0.002399   0.883199  0.892904\n",
              "  1    CoLAKE  40.0  0.833760  0.019183  0.003033   0.827625  0.839895\n",
              "  2  combined  80.0  0.860906  0.032273  0.003608   0.853724  0.868088,\n",
              "                   Independent t-test  results\n",
              "  0  Difference (RoBERTa - CoLAKE) =    0.0543\n",
              "  1             Degrees of freedom =   78.0000\n",
              "  2                              t =   14.0391\n",
              "  3          Two side test p value =    0.0000\n",
              "  4         Difference < 0 p value =    1.0000\n",
              "  5         Difference > 0 p value =    0.0000\n",
              "  6                      Cohen's d =    3.1392\n",
              "  7                      Hedge's g =    3.1089\n",
              "  8                  Glass's delta =    3.5783\n",
              "  9                    Pearson's r =    0.8464)}"
            ]
          },
          "metadata": {},
          "execution_count": 5
        }
      ]
    },
    {
      "cell_type": "code",
      "source": [
        ""
      ],
      "metadata": {
        "id": "YdfUG2eToM_D"
      },
      "execution_count": 5,
      "outputs": []
    }
  ]
}